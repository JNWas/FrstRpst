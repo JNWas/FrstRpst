{
 "cells": [
  {
   "cell_type": "markdown",
   "id": "31eb6c4a-a162-461c-b550-bdac31f95990",
   "metadata": {},
   "source": [
    "# Data Science Tools and Ecosystem"
   ]
  },
  {
   "cell_type": "markdown",
   "id": "41389c68-ba62-46f1-a173-996df40447f3",
   "metadata": {},
   "source": [
    "In this notebook, Data Science Tools and Ecosystem are summarized."
   ]
  },
  {
   "cell_type": "markdown",
   "id": "9f311f85-018f-4512-a27b-74481ffb2c66",
   "metadata": {},
   "source": [
    "__Objectives:__\n",
    "- List popular languages for Data Science\n",
    "- List commonly used libraries used by Data Scientists\n",
    "- List data science tools\n",
    "- Demonstrate basic arithmetic"
   ]
  },
  {
   "cell_type": "markdown",
   "id": "5468c3e1-5d7b-4cd3-96dd-3decb44484c7",
   "metadata": {},
   "source": [
    "Some of the popular languages that Data Scientists use are:\n",
    "1. Python\n",
    "2. R\n",
    "3. SQL"
   ]
  },
  {
   "cell_type": "markdown",
   "id": "b5c924f9-3714-4496-9b4e-47d67042b617",
   "metadata": {},
   "source": [
    "Some of the commonly used libraries used by Data Scientists include:\n",
    "1. Pandas\n",
    "2. NumPy\n",
    "3. Scala\n",
    "4. ggplot2\n",
    "5. caret\n"
   ]
  },
  {
   "cell_type": "markdown",
   "id": "07a98e22-0ff1-480c-bc85-51e81d22b4e1",
   "metadata": {},
   "source": [
    "|Data Science Tools|\n",
    "|-----|\n",
    "|R Studio|\n",
    "|Jupyter Notebooks|\n",
    "|Jupyter Lab|\n",
    "|Git Hub|\n"
   ]
  },
  {
   "cell_type": "markdown",
   "id": "69b83a5b-3f1a-405e-bc9a-dc51563eebcb",
   "metadata": {},
   "source": [
    "### Below are a few examples of evaluating arithmetic expressions in Python"
   ]
  },
  {
   "cell_type": "code",
   "execution_count": 7,
   "id": "f82c9301-75f6-419b-b71b-19d9d44d912c",
   "metadata": {},
   "outputs": [
    {
     "data": {
      "text/plain": [
       "17"
      ]
     },
     "execution_count": 7,
     "metadata": {},
     "output_type": "execute_result"
    }
   ],
   "source": [
    "# This a simple arithmetic expression to mutiply then add integers\n",
    "(3*4)+5"
   ]
  },
  {
   "cell_type": "code",
   "execution_count": 9,
   "id": "a78de3cd-b2ba-4202-ab77-fb692c4b1325",
   "metadata": {},
   "outputs": [
    {
     "data": {
      "text/plain": [
       "33.333333333333336"
      ]
     },
     "execution_count": 9,
     "metadata": {},
     "output_type": "execute_result"
    }
   ],
   "source": [
    "# This will convert 200 minutes to hours by diving by 60\n",
    "200/6"
   ]
  },
  {
   "cell_type": "markdown",
   "id": "d9718b16-1224-445a-baaf-a2398a655e89",
   "metadata": {},
   "source": [
    "## Author\n",
    "Jeffrey Wasilevich"
   ]
  },
  {
   "cell_type": "code",
   "execution_count": null,
   "id": "1afde4da-3e0b-4d6c-ac2e-a8c86b40aaee",
   "metadata": {},
   "outputs": [],
   "source": []
  }
 ],
 "metadata": {
  "kernelspec": {
   "display_name": "Python 3 (ipykernel)",
   "language": "python",
   "name": "python3"
  },
  "language_info": {
   "codemirror_mode": {
    "name": "ipython",
    "version": 3
   },
   "file_extension": ".py",
   "mimetype": "text/x-python",
   "name": "python",
   "nbconvert_exporter": "python",
   "pygments_lexer": "ipython3",
   "version": "3.12.4"
  }
 },
 "nbformat": 4,
 "nbformat_minor": 5
}
